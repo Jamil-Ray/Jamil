{
  "nbformat": 4,
  "nbformat_minor": 0,
  "metadata": {
    "colab": {
      "provenance": [],
      "include_colab_link": true
    },
    "kernelspec": {
      "name": "python3",
      "display_name": "Python 3"
    }
  },
  "cells": [
    {
      "cell_type": "markdown",
      "metadata": {
        "id": "view-in-github",
        "colab_type": "text"
      },
      "source": [
        "<a href=\"https://colab.research.google.com/github/Jamil-Ray/Jamil/blob/main/LogisticRegression.ipynb\" target=\"_parent\"><img src=\"https://colab.research.google.com/assets/colab-badge.svg\" alt=\"Open In Colab\"/></a>"
      ]
    },
    {
      "cell_type": "markdown",
      "metadata": {
        "id": "370iOiQSH1nr"
      },
      "source": [
        "## Load Data"
      ]
    },
    {
      "cell_type": "code",
      "metadata": {
        "id": "V_G76gjwH3f4"
      },
      "source": [
        "import pandas as pn\n",
        "url ='https://raw.githubusercontent.com/swakkhar/MachineLearning/master/Codes/logistic.csv'\n",
        "data = pn.read_csv(url,header=None)\n",
        "import numpy as np\n",
        "data=np.asarray(data)\n",
        "X = np.delete(data, data.shape[1] - 1, axis=1)\n",
        "y = data[:, -1]"
      ],
      "execution_count": null,
      "outputs": []
    },
    {
      "cell_type": "code",
      "source": [
        "y.shape"
      ],
      "metadata": {
        "colab": {
          "base_uri": "https://localhost:8080/"
        },
        "id": "aiXQpuOrEKKi",
        "outputId": "e6f97b52-f361-4878-bb72-e00f7aff9e4a"
      },
      "execution_count": null,
      "outputs": [
        {
          "output_type": "execute_result",
          "data": {
            "text/plain": [
              "(100,)"
            ]
          },
          "metadata": {},
          "execution_count": 2
        }
      ]
    },
    {
      "cell_type": "code",
      "metadata": {
        "id": "It4goZcZuG_c",
        "colab": {
          "base_uri": "https://localhost:8080/"
        },
        "outputId": "690b1fa9-ba7a-4527-8650-215a075f8699"
      },
      "source": [
        "X.shape"
      ],
      "execution_count": null,
      "outputs": [
        {
          "output_type": "execute_result",
          "data": {
            "text/plain": [
              "(100, 2)"
            ]
          },
          "metadata": {},
          "execution_count": 3
        }
      ]
    },
    {
      "cell_type": "markdown",
      "metadata": {
        "id": "t-lZgtJtIe8q"
      },
      "source": [
        "## Visualize data"
      ]
    },
    {
      "cell_type": "code",
      "metadata": {
        "id": "S8LtVp7wIT4E",
        "colab": {
          "base_uri": "https://localhost:8080/",
          "height": 283
        },
        "outputId": "0e450b7e-710f-41d7-9a4e-9c2474d241aa"
      },
      "source": [
        "import matplotlib\n",
        "import matplotlib.pyplot as plt\n",
        "\n",
        "classA=[]\n",
        "classB=[]\n",
        "i=0\n",
        "for index in y:\n",
        "    if index==1.0:\n",
        "        classA.append(X[i,:])\n",
        "    else:\n",
        "        classB.append(X[i, :])\n",
        "    i+=1\n",
        "a=plt.scatter(np.asarray(classA)[:,0],np.asarray(classA)[:,-1])\n",
        "\n",
        "b=plt.scatter(np.asarray(classB)[:,0],np.asarray(classB)[:,-1])\n",
        "plt.legend((a,b),('class 1','class 0'),loc='upper left')\n"
      ],
      "execution_count": null,
      "outputs": [
        {
          "output_type": "execute_result",
          "data": {
            "text/plain": [
              "<matplotlib.legend.Legend at 0x7f49e5961ad0>"
            ]
          },
          "metadata": {},
          "execution_count": 4
        },
        {
          "output_type": "display_data",
          "data": {
            "text/plain": [
              "<Figure size 432x288 with 1 Axes>"
            ],
            "image/png": "[encoded data removed]"
          },
          "metadata": {
            "needs_background": "light"
          }
        }
      ]
    },
    {
      "cell_type": "markdown",
      "metadata": {
        "id": "Ga39iD4CN1yf"
      },
      "source": [
        "## Closer look at the step function"
      ]
    },
    {
      "cell_type": "code",
      "metadata": {
        "id": "JgiltPwYIihh",
        "colab": {
          "base_uri": "https://localhost:8080/",
          "height": 283
        },
        "outputId": "d303e866-6e8d-4168-ed1e-67009f6ce165"
      },
      "source": [
        "def stepLR(x):\n",
        "  if x > 0:\n",
        "    return 1\n",
        "  else:\n",
        "    return 0\n",
        "  \n",
        "somex=np.linspace(-10,10,100)\n",
        "somey=[stepLR(e) for e in somex]\n",
        "import matplotlib\n",
        "import matplotlib.pyplot as plt\n",
        "\n",
        "plt.plot(somex,somey,marker=\".\",markerfacecolor='r')\n"
      ],
      "execution_count": null,
      "outputs": [
        {
          "output_type": "execute_result",
          "data": {
            "text/plain": [
              "[<matplotlib.lines.Line2D at 0x7f49e7a5c810>]"
            ]
          },
          "metadata": {},
          "execution_count": 5
        },
        {
          "output_type": "display_data",
          "data": {
            "text/plain": [
              "<Figure size 432x288 with 1 Axes>"
            ],
            "image/png": "[encoded data removed]"
          },
          "metadata": {
            "needs_background": "light"
          }
        }
      ]
    },
    {
      "cell_type": "markdown",
      "metadata": {
        "id": "Qb0-aT2cSOiM"
      },
      "source": [
        "## Sigmoid Function"
      ]
    },
    {
      "cell_type": "code",
      "metadata": {
        "id": "JDXT082OOC7o",
        "colab": {
          "base_uri": "https://localhost:8080/",
          "height": 283
        },
        "outputId": "d0c30547-5602-40aa-a65d-c7538d2ab995"
      },
      "source": [
        "import math\n",
        "def sigmoid(x):\n",
        "  return 1/(1+math.exp(-x))\n",
        "somex=np.linspace(-10,10,100)\n",
        "somey=[sigmoid(e) for e in somex]\n",
        "import matplotlib\n",
        "import matplotlib.pyplot as plt\n",
        "\n",
        "plt.plot(somex,somey,marker=\".\",markerfacecolor='r')\n"
      ],
      "execution_count": null,
      "outputs": [
        {
          "output_type": "execute_result",
          "data": {
            "text/plain": [
              "[<matplotlib.lines.Line2D at 0x7f49e53e2cd0>]"
            ]
          },
          "metadata": {},
          "execution_count": 6
        },
        {
          "output_type": "display_data",
          "data": {
            "text/plain": [
              "<Figure size 432x288 with 1 Axes>"
            ],
            "image/png": "[encoded data removed]"
          },
          "metadata": {
            "needs_background": "light"
          }
        }
      ]
    },
    {
      "cell_type": "markdown",
      "metadata": {
        "id": "Hbq-dtd6X_99"
      },
      "source": [
        "## Cross Entropy"
      ]
    },
    {
      "cell_type": "code",
      "metadata": {
        "id": "Kt8-UV6zSUCD"
      },
      "source": [
        "def crossEntropy(y,yHat):\n",
        "  if y == 1:\n",
        "    return -math.log(yHat)\n",
        "  else:\n",
        "    return -math.log(1 - yHat)\n",
        "  "
      ],
      "execution_count": null,
      "outputs": []
    },
    {
      "cell_type": "code",
      "metadata": {
        "id": "5YlWN5_yYUsv",
        "colab": {
          "base_uri": "https://localhost:8080/",
          "height": 573
        },
        "outputId": "ed5f2ff1-e8db-4b05-9f43-6dec525307e9"
      },
      "source": [
        "yhat=np.linspace(0.0001,.9999,1000)\n",
        "loss = [crossEntropy(1,r) for r in yhat]\n",
        "plt.plot(yhat,loss)\n",
        "plt.xlabel(\"yHat\")\n",
        "plt.ylabel(\"loss function\")\n",
        "plt.title(\"Loss function for true label y=1\")\n",
        "plt.show()\n",
        "\n",
        "\n",
        "yhat=np.linspace(0.0001,.9999,1000)\n",
        "loss = [crossEntropy(0,r) for r in yhat]\n",
        "plt.plot(yhat,loss)\n",
        "plt.xlabel(\"yHat\")\n",
        "plt.ylabel(\"loss function\")\n",
        "plt.title(\"Loss function for true label y=0\")\n",
        "plt.show()"
      ],
      "execution_count": null,
      "outputs": [
        {
          "output_type": "display_data",
          "data": {
            "text/plain": [
              "<Figure size 432x288 with 1 Axes>"
            ],
            "image/png": "[encoded data removed]"
          },
          "metadata": {
            "needs_background": "light"
          }
        },
        {
          "output_type": "display_data",
          "data": {
            "text/plain": [
              "<Figure size 432x288 with 1 Axes>"
            ],
            "image/png": "[encoded data removed]"
          },
          "metadata": {
            "needs_background": "light"
          }
        }
      ]
    },
    {
      "cell_type": "markdown",
      "metadata": {
        "id": "xbT9X51reitP"
      },
      "source": [
        "## Same gradient descent works!"
      ]
    },
    {
      "cell_type": "code",
      "metadata": {
        "id": "Zr77MT1WYd3o",
        "colab": {
          "base_uri": "https://localhost:8080/",
          "height": 404
        },
        "outputId": "765d4727-1e2d-4333-e4a1-14781c24532d"
      },
      "source": [
        "def sigmoid(z):\n",
        "    return 1.0/(1+np.exp(-z))\n",
        "\n",
        "  \n",
        "import copy\n",
        "def learnWeights(X,y,maxIter,alpha):\n",
        "  ones = np.ones((X.shape[0],1))\n",
        "  # Deep copy the parameters\n",
        "  X=copy.deepcopy(X)\n",
        "  y=copy.deepcopy(y)\n",
        "  X=np.concatenate((ones,X),axis=1)\n",
        "  X=np.mat(X)\n",
        "  y=np.mat(y)\n",
        "  w=np.random.rand(X.shape[1],1)\n",
        "  #w = np.ones((X.shape[1], 1))\n",
        "  for i in range(0,maxIter):\n",
        "    # predict y\n",
        "    z=X*w\n",
        "    predy=sigmoid(z)\n",
        "    delY = predy-y.T\n",
        "    delw = X.T * delY\n",
        "    w = w - delw * alpha\n",
        "  return w\n",
        "\n",
        "print(X.shape)\n",
        "print(y.shape)\n",
        "w=learnWeights(X,y,1000,0.001)\n",
        "print(X.shape)\n",
        "print(y.shape)\n",
        "\n",
        "print(w)\n",
        "\n",
        "classA=[]\n",
        "classB=[]\n",
        "i=0\n",
        "for index in y:\n",
        "    if index==1.0:\n",
        "        classA.append(X[i,:])\n",
        "    else:\n",
        "        classB.append(X[i, :])\n",
        "    i+=1\n",
        "a=plt.scatter(np.asarray(classA)[:,0],np.asarray(classA)[:,-1])\n",
        "\n",
        "b=plt.scatter(np.asarray(classB)[:,0],np.asarray(classB)[:,-1])\n",
        "plt.legend((a,b),('class 1','class 0'),loc='upper left')\n",
        "\n",
        "\n",
        "testx = np.arange(-4.0, 4.0, 0.1)\n",
        "\n",
        "testy = (-w[0]-w[1]*testx)/w[2]\n",
        "plt.plot(testx,testy.T,color=\"r\")\n",
        "\n",
        "plt.xlabel(\"feature 1\")\n",
        "plt.ylabel(\"feature 2\")\n",
        "plt.show()\n"
      ],
      "execution_count": null,
      "outputs": [
        {
          "output_type": "stream",
          "name": "stdout",
          "text": [
            "(100, 2)\n",
            "(100,)\n",
            "(100, 2)\n",
            "(100,)\n",
            "[[ 5.42064112]\n",
            " [ 0.58470234]\n",
            " [-0.78110849]]\n"
          ]
        },
        {
          "output_type": "display_data",
          "data": {
            "text/plain": [
              "<Figure size 432x288 with 1 Axes>"
            ],
            "image/png": "[encoded data removed]"
          },
          "metadata": {
            "needs_background": "light"
          }
        }
      ]
    },
    {
      "cell_type": "code",
      "source": [
        "from sklearn.linear_model import LogisticRegression"
      ],
      "metadata": {
        "id": "IV9yYxTmyyHw"
      },
      "execution_count": null,
      "outputs": []
    },
    {
      "cell_type": "code",
      "source": [
        "clf = LogisticRegression(random_state=0).fit(X, y)\n"
      ],
      "metadata": {
        "id": "yM6s3T8Ty5M3"
      },
      "execution_count": null,
      "outputs": []
    },
    {
      "cell_type": "code",
      "source": [
        "clf.predict([[2,3]])"
      ],
      "metadata": {
        "colab": {
          "base_uri": "https://localhost:8080/"
        },
        "id": "Y3jGk64TzMFv",
        "outputId": "27ecaa72-86f5-4dec-cf96-3965ece79e89"
      },
      "execution_count": null,
      "outputs": [
        {
          "output_type": "execute_result",
          "data": {
            "text/plain": [
              "array([1.])"
            ]
          },
          "metadata": {},
          "execution_count": 12
        }
      ]
    },
    {
      "cell_type": "code",
      "source": [
        "clf.predict_proba([[2,3]])\n"
      ],
      "metadata": {
        "colab": {
          "base_uri": "https://localhost:8080/"
        },
        "id": "-2DIysCXzlH1",
        "outputId": "c0beae32-6c11-44a5-ce98-e73add67c0dd"
      },
      "execution_count": null,
      "outputs": [
        {
          "output_type": "execute_result",
          "data": {
            "text/plain": [
              "array([[2.08691520e-04, 9.99791308e-01]])"
            ]
          },
          "metadata": {},
          "execution_count": 13
        }
      ]
    },
    {
      "cell_type": "code",
      "source": [
        "clf.score(X, y)"
      ],
      "metadata": {
        "id": "pBXqQReRzwWT",
        "outputId": "867bed39-4366-40b1-d6dc-35428d0ad89d",
        "colab": {
          "base_uri": "https://localhost:8080/"
        }
      },
      "execution_count": null,
      "outputs": [
        {
          "output_type": "execute_result",
          "data": {
            "text/plain": [
              "0.95"
            ]
          },
          "metadata": {},
          "execution_count": 14
        }
      ]
    },
    {
      "cell_type": "markdown",
      "metadata": {
        "id": "mHJpBeU-xySq"
      },
      "source": [
        "## A lighter algorithm for learning weights\n",
        "\n",
        "```\n",
        "# This is formatted as code\n",
        "```\n",
        "\n"
      ]
    },
    {
      "cell_type": "code",
      "metadata": {
        "id": "pxQ_6HKiemPw",
        "colab": {
          "base_uri": "https://localhost:8080/"
        },
        "outputId": "7b489dc3-ff96-4ff4-cc42-42fb2e269d5a"
      },
      "source": [
        "import random\n",
        "def NaiveStocGradDescent(X, y, numIter=150):\n",
        "  X=copy.deepcopy(X)\n",
        "  y=copy.deepcopy(y)\n",
        "  m,n = X.shape\n",
        "  ones = np.ones((X.shape[0], 1))\n",
        "  X = np.concatenate((ones, X), axis=1)\n",
        "  X = np.mat(X)\n",
        "  y = np.mat(y)\n",
        "  w = np.random.rand(X.shape[1], 1)\n",
        "  y=y.T\n",
        "  \n",
        "  alpha = 0.01\n",
        "  \n",
        "  for j in range(10):\n",
        "    \n",
        "    for i in range(m):\n",
        "      i = int(random.uniform(0,m))\n",
        "      h = sigmoid((X[i])*w)\n",
        "      error = y[i] - h\n",
        "      w = w + alpha * (error * X[i]).T\n",
        "  return w\n",
        "\n",
        "print(X.shape)\n",
        "print(y.shape)\n",
        "w1=NaiveStocGradDescent(X,y)\n",
        "print(w1)"
      ],
      "execution_count": null,
      "outputs": [
        {
          "output_type": "stream",
          "name": "stdout",
          "text": [
            "(100, 2)\n",
            "(100,)\n",
            "[[ 1.86204255]\n",
            " [ 0.34910328]\n",
            " [-0.22802443]]\n"
          ]
        }
      ]
    },
    {
      "cell_type": "markdown",
      "metadata": {
        "id": "vD81XxSDzNq_"
      },
      "source": [
        "## How good is the algorithm?"
      ]
    },
    {
      "cell_type": "code",
      "metadata": {
        "id": "5kuILJsIyp-N",
        "colab": {
          "base_uri": "https://localhost:8080/",
          "height": 279
        },
        "outputId": "3e293126-0631-4f1c-8f1f-91ba35438f8f"
      },
      "source": [
        "classA=[]\n",
        "classB=[]\n",
        "i=0\n",
        "for index in y:\n",
        "    if index==1.0:\n",
        "        classA.append(X[i,:])\n",
        "    else:\n",
        "        classB.append(X[i, :])\n",
        "    i+=1\n",
        "a=plt.scatter(np.asarray(classA)[:,0],np.asarray(classA)[:,-1])\n",
        "\n",
        "b=plt.scatter(np.asarray(classB)[:,0],np.asarray(classB)[:,-1])\n",
        "plt.legend((a,b),('class 1','class 0'),loc='upper left')\n",
        "\n",
        "\n",
        "testx = np.arange(-4.0, 4.0, 0.1)\n",
        "\n",
        "testy = (-w[0]-w[1]*testx)/w[2]\n",
        "plt.plot(testx,testy.T,color=\"r\")\n",
        "\n",
        "testy1 = (-w1[0]-w1[1]*testx)/w1[2]\n",
        "plt.plot(testx,testy1.T,color=\"y\")\n",
        "\n",
        "plt.xlabel(\"feature 1\")\n",
        "plt.ylabel(\"feature 2\")\n",
        "plt.show()"
      ],
      "execution_count": null,
      "outputs": [
        {
          "output_type": "display_data",
          "data": {
            "text/plain": [
              "<Figure size 432x288 with 1 Axes>"
            ],
            "image/png": "[encoded data removed]"
          },
          "metadata": {
            "needs_background": "light"
          }
        }
      ]
    },
    {
      "cell_type": "markdown",
      "metadata": {
        "id": "m6eTfTxnwADD"
      },
      "source": [
        "## Stochastic Gradient Descent"
      ]
    },
    {
      "cell_type": "code",
      "metadata": {
        "id": "Dl3h1udazW2c"
      },
      "source": [],
      "execution_count": null,
      "outputs": []
    }
  ]
}