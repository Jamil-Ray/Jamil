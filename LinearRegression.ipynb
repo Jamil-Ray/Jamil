{
  "nbformat": 4,
  "nbformat_minor": 0,
  "metadata": {
    "colab": {
      "provenance": [],
      "include_colab_link": true
    },
    "kernelspec": {
      "name": "python3",
      "display_name": "Python 3"
    }
  },
  "cells": [
    {
      "cell_type": "markdown",
      "metadata": {
        "id": "view-in-github",
        "colab_type": "text"
      },
      "source": [
        "<a href=\"https://colab.research.google.com/github/Jamil-Ray/Jamil/blob/main/LinearRegression.ipynb\" target=\"_parent\"><img src=\"https://colab.research.google.com/assets/colab-badge.svg\" alt=\"Open In Colab\"/></a>"
      ]
    },
    {
      "cell_type": "markdown",
      "metadata": {
        "id": "oiuHx1sAB06Q"
      },
      "source": [
        "# Import data Using Pandas"
      ]
    },
    {
      "cell_type": "code",
      "metadata": {
        "id": "9ysuuqDcWxdh"
      },
      "source": [
        "import pandas as pn\n",
        "url ='https://raw.githubusercontent.com/swakkhar/MachineLearning/master/Codes/linear.csv'\n",
        "data = pn.read_csv(url,header=None)"
      ],
      "execution_count": null,
      "outputs": []
    },
    {
      "cell_type": "code",
      "metadata": {
        "id": "DlNdjdKMdry2",
        "colab": {
          "base_uri": "https://localhost:8080/",
          "height": 424
        },
        "outputId": "9624518e-8898-4ba3-ceaf-a1c71061f27d"
      },
      "source": [
        "data"
      ],
      "execution_count": null,
      "outputs": [
        {
          "output_type": "execute_result",
          "data": {
            "text/plain": [
              "            0         1\n",
              "0    0.067732  3.176513\n",
              "1    0.427810  3.816464\n",
              "2    0.995731  4.550095\n",
              "3    0.738336  4.256571\n",
              "4    0.981083  4.560815\n",
              "..        ...       ...\n",
              "195  0.257017  3.585821\n",
              "196  0.833735  4.374394\n",
              "197  0.070095  3.213817\n",
              "198  0.527070  3.952681\n",
              "199  0.116163  3.129283\n",
              "\n",
              "[200 rows x 2 columns]"
            ],
            "text/html": [
              "\n",
              "  <div id=\"df-918a6aad-edb8-4eab-86e2-4320a98a521b\">\n",
              "    <div class=\"colab-df-container\">\n",
              "      <div>\n",
              "<style scoped>\n",
              "    .dataframe tbody tr th:only-of-type {\n",
              "        vertical-align: middle;\n",
              "    }\n",
              "\n",
              "    .dataframe tbody tr th {\n",
              "        vertical-align: top;\n",
              "    }\n",
              "\n",
              "    .dataframe thead th {\n",
              "        text-align: right;\n",
              "    }\n",
              "</style>\n",
              "<table border=\"1\" class=\"dataframe\">\n",
              "  <thead>\n",
              "    <tr style=\"text-align: right;\">\n",
              "      <th></th>\n",
              "      <th>0</th>\n",
              "      <th>1</th>\n",
              "    </tr>\n",
              "  </thead>\n",
              "  <tbody>\n",
              "    <tr>\n",
              "      <th>0</th>\n",
              "      <td>0.067732</td>\n",
              "      <td>3.176513</td>\n",
              "    </tr>\n",
              "    <tr>\n",
              "      <th>1</th>\n",
              "      <td>0.427810</td>\n",
              "      <td>3.816464</td>\n",
              "    </tr>\n",
              "    <tr>\n",
              "      <th>2</th>\n",
              "      <td>0.995731</td>\n",
              "      <td>4.550095</td>\n",
              "    </tr>\n",
              "    <tr>\n",
              "      <th>3</th>\n",
              "      <td>0.738336</td>\n",
              "      <td>4.256571</td>\n",
              "    </tr>\n",
              "    <tr>\n",
              "      <th>4</th>\n",
              "      <td>0.981083</td>\n",
              "      <td>4.560815</td>\n",
              "    </tr>\n",
              "    <tr>\n",
              "      <th>...</th>\n",
              "      <td>...</td>\n",
              "      <td>...</td>\n",
              "    </tr>\n",
              "    <tr>\n",
              "      <th>195</th>\n",
              "      <td>0.257017</td>\n",
              "      <td>3.585821</td>\n",
              "    </tr>\n",
              "    <tr>\n",
              "      <th>196</th>\n",
              "      <td>0.833735</td>\n",
              "      <td>4.374394</td>\n",
              "    </tr>\n",
              "    <tr>\n",
              "      <th>197</th>\n",
              "      <td>0.070095</td>\n",
              "      <td>3.213817</td>\n",
              "    </tr>\n",
              "    <tr>\n",
              "      <th>198</th>\n",
              "      <td>0.527070</td>\n",
              "      <td>3.952681</td>\n",
              "    </tr>\n",
              "    <tr>\n",
              "      <th>199</th>\n",
              "      <td>0.116163</td>\n",
              "      <td>3.129283</td>\n",
              "    </tr>\n",
              "  </tbody>\n",
              "</table>\n",
              "<p>200 rows × 2 columns</p>\n",
              "</div>\n",
              "      <button class=\"colab-df-convert\" onclick=\"convertToInteractive('df-918a6aad-edb8-4eab-86e2-4320a98a521b')\"\n",
              "              title=\"Convert this dataframe to an interactive table.\"\n",
              "              style=\"display:none;\">\n",
              "        \n",
              "  <svg xmlns=\"http://www.w3.org/2000/svg\" height=\"24px\"viewBox=\"0 0 24 24\"\n",
              "       width=\"24px\">\n",
              "    <path d=\"M0 0h24v24H0V0z\" fill=\"none\"/>\n",
              "    <path d=\"M18.56 5.44l.94 2.06.94-2.06 2.06-.94-2.06-.94-.94-2.06-.94 2.06-2.06.94zm-11 1L8.5 8.5l.94-2.06 2.06-.94-2.06-.94L8.5 2.5l-.94 2.06-2.06.94zm10 10l.94 2.06.94-2.06 2.06-.94-2.06-.94-.94-2.06-.94 2.06-2.06.94z\"/><path d=\"M17.41 7.96l-1.37-1.37c-.4-.4-.92-.59-1.43-.59-.52 0-1.04.2-1.43.59L10.3 9.45l-7.72 7.72c-.78.78-.78 2.05 0 2.83L4 21.41c.39.39.9.59 1.41.59.51 0 1.02-.2 1.41-.59l7.78-7.78 2.81-2.81c.8-.78.8-2.07 0-2.86zM5.41 20L4 18.59l7.72-7.72 1.47 1.35L5.41 20z\"/>\n",
              "  </svg>\n",
              "      </button>\n",
              "      \n",
              "  <style>\n",
              "    .colab-df-container {\n",
              "      display:flex;\n",
              "      flex-wrap:wrap;\n",
              "      gap: 12px;\n",
              "    }\n",
              "\n",
              "    .colab-df-convert {\n",
              "      background-color: #E8F0FE;\n",
              "      border: none;\n",
              "      border-radius: 50%;\n",
              "      cursor: pointer;\n",
              "      display: none;\n",
              "      fill: #1967D2;\n",
              "      height: 32px;\n",
              "      padding: 0 0 0 0;\n",
              "      width: 32px;\n",
              "    }\n",
              "\n",
              "    .colab-df-convert:hover {\n",
              "      background-color: #E2EBFA;\n",
              "      box-shadow: 0px 1px 2px rgba(60, 64, 67, 0.3), 0px 1px 3px 1px rgba(60, 64, 67, 0.15);\n",
              "      fill: #174EA6;\n",
              "    }\n",
              "\n",
              "    [theme=dark] .colab-df-convert {\n",
              "      background-color: #3B4455;\n",
              "      fill: #D2E3FC;\n",
              "    }\n",
              "\n",
              "    [theme=dark] .colab-df-convert:hover {\n",
              "      background-color: #434B5C;\n",
              "      box-shadow: 0px 1px 3px 1px rgba(0, 0, 0, 0.15);\n",
              "      filter: drop-shadow(0px 1px 2px rgba(0, 0, 0, 0.3));\n",
              "      fill: #FFFFFF;\n",
              "    }\n",
              "  </style>\n",
              "\n",
              "      <script>\n",
              "        const buttonEl =\n",
              "          document.querySelector('#df-918a6aad-edb8-4eab-86e2-4320a98a521b button.colab-df-convert');\n",
              "        buttonEl.style.display =\n",
              "          google.colab.kernel.accessAllowed ? 'block' : 'none';\n",
              "\n",
              "        async function convertToInteractive(key) {\n",
              "          const element = document.querySelector('#df-918a6aad-edb8-4eab-86e2-4320a98a521b');\n",
              "          const dataTable =\n",
              "            await google.colab.kernel.invokeFunction('convertToInteractive',\n",
              "                                                     [key], {});\n",
              "          if (!dataTable) return;\n",
              "\n",
              "          const docLinkHtml = 'Like what you see? Visit the ' +\n",
              "            '<a target=\"_blank\" href=https://colab.research.google.com/notebooks/data_table.ipynb>data table notebook</a>'\n",
              "            + ' to learn more about interactive tables.';\n",
              "          element.innerHTML = '';\n",
              "          dataTable['output_type'] = 'display_data';\n",
              "          await google.colab.output.renderOutput(dataTable, element);\n",
              "          const docLink = document.createElement('div');\n",
              "          docLink.innerHTML = docLinkHtml;\n",
              "          element.appendChild(docLink);\n",
              "        }\n",
              "      </script>\n",
              "    </div>\n",
              "  </div>\n",
              "  "
            ]
          },
          "metadata": {},
          "execution_count": 2
        }
      ]
    },
    {
      "cell_type": "markdown",
      "metadata": {
        "id": "JuHhQLpVCCC7"
      },
      "source": [
        "# Use Numpy to convert the numerical data"
      ]
    },
    {
      "cell_type": "code",
      "metadata": {
        "id": "3R2aXrAjaO8N"
      },
      "source": [
        "import numpy  as np\n",
        "data=np.asarray(data)\n",
        "X = np.delete(data, data.shape[1] - 1, axis=1)\n",
        "y = data[:, -1]\n"
      ],
      "execution_count": null,
      "outputs": []
    },
    {
      "cell_type": "markdown",
      "metadata": {
        "id": "KQxwkhEfCeqf"
      },
      "source": [
        "# Visualize Data"
      ]
    },
    {
      "cell_type": "code",
      "metadata": {
        "id": "QK1jCZaUEZjP",
        "colab": {
          "base_uri": "https://localhost:8080/",
          "height": 331
        },
        "outputId": "e11950cf-52ad-4d59-d4b6-6dcfcffee041"
      },
      "source": [
        "print(X.shape)\n",
        "print(y.shape)\n",
        "\n",
        "import matplotlib\n",
        "import matplotlib.pyplot as plt\n",
        "\n",
        "plt.scatter(X,y,color='r')\n",
        "plt.xlabel(\"Population of a city in 10,000s\")\n",
        "plt.title(\"Scatter Plot\")\n",
        "plt.ylabel(\"Profit in $10,000s\")\n",
        "plt.show()"
      ],
      "execution_count": null,
      "outputs": [
        {
          "output_type": "stream",
          "name": "stdout",
          "text": [
            "(200, 1)\n",
            "(200,)\n"
          ]
        },
        {
          "output_type": "display_data",
          "data": {
            "text/plain": [
              "<Figure size 432x288 with 1 Axes>"
            ],
            "image/png": "[encoded data removed]"
          },
          "metadata": {
            "needs_background": "light"
          }
        }
      ]
    },
    {
      "cell_type": "markdown",
      "metadata": {
        "id": "2Yd9--tPGZ89"
      },
      "source": [
        "# Try a random line\n"
      ]
    },
    {
      "cell_type": "code",
      "metadata": {
        "id": "ja53P_ebC0HJ",
        "colab": {
          "base_uri": "https://localhost:8080/",
          "height": 295
        },
        "outputId": "aa4c0b69-4e44-4907-8418-fa2d30993ea6"
      },
      "source": [
        "w0=3\n",
        "w1= 10\n",
        "population=np.linspace(0,1,100)\n",
        "profit=w0+w1*population\n",
        "import matplotlib\n",
        "import matplotlib.pyplot as plt\n",
        "\n",
        "plt.scatter(X,y,color='r')\n",
        "plt.xlabel(\"Population of a city in 10,000s\")\n",
        "plt.title(\"Scatter Plot\")\n",
        "plt.ylabel(\"Profit in $10,000s\")\n",
        "plt.plot(population,profit)\n",
        "plt.show()\n",
        "\n",
        "\n"
      ],
      "execution_count": null,
      "outputs": [
        {
          "output_type": "display_data",
          "data": {
            "text/plain": [
              "<Figure size 432x288 with 1 Axes>"
            ],
            "image/png": "[encoded data removed]"
          },
          "metadata": {
            "needs_background": "light"
          }
        }
      ]
    },
    {
      "cell_type": "markdown",
      "metadata": {
        "id": "v2ycsobkGqZP"
      },
      "source": [
        "## Learn the line using Gradient Descent"
      ]
    },
    {
      "cell_type": "code",
      "metadata": {
        "id": "rhORe3TkGfQ9",
        "colab": {
          "base_uri": "https://localhost:8080/",
          "height": 331
        },
        "outputId": "4da14923-c963-4974-f893-cda4c21fb0a6"
      },
      "source": [
        "from numpy import mat\n",
        "import copy\n",
        "\n",
        "def learn(X,y,alpha,maxIter):\n",
        "  \n",
        "  # make a deep copy of everything\n",
        "  X=copy.deepcopy(X)\n",
        "  y=copy.deepcopy(y)\n",
        "  \n",
        "  # add ones to each of the instances\n",
        "  ones=np.ones((X.shape[0],1))\n",
        "  X=np.concatenate((ones,X),axis=1)\n",
        "  X=mat(X)\n",
        "  y=mat(y)\n",
        "  # initialize wights\n",
        "  w=np.zeros((X.shape[1],1))#np.random.rand(1,X.shape[1])*-1\n",
        "  \n",
        "  w=mat(w)\n",
        "  for i in range(0,maxIter):\n",
        "    # for each of the training examples find prediction\n",
        "    ypred = X*w\n",
        "    # for each of the training examples find error\n",
        "    delY=ypred-y.T\n",
        "    # take the gradient\n",
        "    delw=X.T * delY\n",
        "    # adjust weights using the gradients\n",
        "    w=w-delw*alpha #/X.shape[0]\n",
        "  return w\n",
        "  \n",
        "w=learn(X,y,0.00001,1000)\n",
        "print(w)\n",
        "\n",
        "\n",
        "population=np.linspace(0,1,100)\n",
        "profit=w[0,0]+population*w[1,0]\n",
        "import matplotlib\n",
        "import matplotlib.pyplot as plt\n",
        "\n",
        "plt.scatter(X,y,color='r')\n",
        "plt.xlabel(\"Population of a city in 10,000s\")\n",
        "plt.title(\"Scatter Plot\")\n",
        "plt.ylabel(\"Profit in $10,000s\")\n",
        "plt.plot(population,profit)\n",
        "plt.show()"
      ],
      "execution_count": null,
      "outputs": [
        {
          "output_type": "stream",
          "name": "stdout",
          "text": [
            "[[2.8033809 ]\n",
            " [1.48399648]]\n"
          ]
        },
        {
          "output_type": "display_data",
          "data": {
            "text/plain": [
              "<Figure size 432x288 with 1 Axes>"
            ],
            "image/png": "[encoded data removed]"
          },
          "metadata": {
            "needs_background": "light"
          }
        }
      ]
    },
    {
      "cell_type": "code",
      "metadata": {
        "id": "PaGxcZADGutd"
      },
      "source": [
        "from sklearn.linear_model import LinearRegression"
      ],
      "execution_count": null,
      "outputs": []
    },
    {
      "cell_type": "code",
      "metadata": {
        "id": "6XIjf158BBPy"
      },
      "source": [
        "reg = LinearRegression().fit(X, y)"
      ],
      "execution_count": null,
      "outputs": []
    },
    {
      "cell_type": "code",
      "source": [
        "reg.coef_"
      ],
      "metadata": {
        "colab": {
          "base_uri": "https://localhost:8080/"
        },
        "id": "MU6faln4hV-0",
        "outputId": "b3634296-400f-4940-d323-c08bac0cf288"
      },
      "execution_count": null,
      "outputs": [
        {
          "output_type": "execute_result",
          "data": {
            "text/plain": [
              "array([1.69532264])"
            ]
          },
          "metadata": {},
          "execution_count": 20
        }
      ]
    },
    {
      "cell_type": "code",
      "source": [
        "reg.intercept_"
      ],
      "metadata": {
        "colab": {
          "base_uri": "https://localhost:8080/"
        },
        "id": "z2Tx8CrKhZBq",
        "outputId": "a0b03a4d-6090-4d4c-9c42-4f6eb55a1c37"
      },
      "execution_count": null,
      "outputs": [
        {
          "output_type": "execute_result",
          "data": {
            "text/plain": [
              "3.007743242697591"
            ]
          },
          "metadata": {},
          "execution_count": 21
        }
      ]
    },
    {
      "cell_type": "code",
      "source": [
        "reg.predict(np.array([[0.5]]))"
      ],
      "metadata": {
        "id": "z1NKP-dchbSU",
        "outputId": "948dd952-283e-4ee0-e98c-d3d5bade0009",
        "colab": {
          "base_uri": "https://localhost:8080/"
        }
      },
      "execution_count": null,
      "outputs": [
        {
          "output_type": "execute_result",
          "data": {
            "text/plain": [
              "array([3.85540456])"
            ]
          },
          "metadata": {},
          "execution_count": 22
        }
      ]
    },
    {
      "cell_type": "code",
      "source": [],
      "metadata": {
        "id": "OPPAEG2-hexs"
      },
      "execution_count": null,
      "outputs": []
    }
  ]
}