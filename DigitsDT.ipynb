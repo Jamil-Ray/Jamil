{
  "nbformat": 4,
  "nbformat_minor": 0,
  "metadata": {
    "colab": {
      "provenance": [],
      "include_colab_link": true
    },
    "kernelspec": {
      "name": "python3",
      "display_name": "Python 3"
    }
  },
  "cells": [
    {
      "cell_type": "markdown",
      "metadata": {
        "id": "view-in-github",
        "colab_type": "text"
      },
      "source": [
        "<a href=\"https://colab.research.google.com/github/Jamil-Ray/Jamil/blob/main/DigitsDT.ipynb\" target=\"_parent\"><img src=\"https://colab.research.google.com/assets/colab-badge.svg\" alt=\"Open In Colab\"/></a>"
      ]
    },
    {
      "cell_type": "markdown",
      "metadata": {
        "id": "8jvBuLpa8HlH"
      },
      "source": [
        "#Read the Digit data"
      ]
    },
    {
      "cell_type": "code",
      "metadata": {
        "id": "oNWdFJGm8EeZ"
      },
      "source": [
        "import pandas as pn\n",
        "import numpy as np\n",
        "\n",
        "digits_X= pn.read_csv(\"https://raw.githubusercontent.com/swakkhar/MachineLearning/master/Codes/X.csv\",header=None)\n",
        "digits_y= pn.read_csv(\"https://raw.githubusercontent.com/swakkhar/MachineLearning/master/Codes/Y.csv\",header=None)\n",
        "digits_X=np.asarray(digits_X)\n",
        "digits_y=np.asarray(digits_y)\n"
      ],
      "execution_count": null,
      "outputs": []
    },
    {
      "cell_type": "code",
      "metadata": {
        "id": "jNj6EiZO8L4O",
        "colab": {
          "base_uri": "https://localhost:8080/"
        },
        "outputId": "ec92ec4f-a75d-4fef-95d2-ef28519e366c"
      },
      "source": [
        "digits_X.shape"
      ],
      "execution_count": null,
      "outputs": [
        {
          "output_type": "execute_result",
          "data": {
            "text/plain": [
              "(5000, 400)"
            ]
          },
          "metadata": {},
          "execution_count": 2
        }
      ]
    },
    {
      "cell_type": "code",
      "metadata": {
        "id": "ZzglpT3p8Rst",
        "colab": {
          "base_uri": "https://localhost:8080/"
        },
        "outputId": "44944cbe-20f2-4b49-e058-aec672f48868"
      },
      "source": [
        "digits_y=np.reshape(digits_y,(digits_y.shape[0],))\n",
        "digits_y.shape"
      ],
      "execution_count": null,
      "outputs": [
        {
          "output_type": "execute_result",
          "data": {
            "text/plain": [
              "(5000,)"
            ]
          },
          "metadata": {},
          "execution_count": 3
        }
      ]
    },
    {
      "cell_type": "code",
      "metadata": {
        "id": "j1587wvC8SW9",
        "colab": {
          "base_uri": "https://localhost:8080/",
          "height": 305
        },
        "outputId": "1dcae6e9-c231-4a28-8e8c-56f124d7b08e"
      },
      "source": [
        "import matplotlib.pyplot as plt\n",
        "def digitShow(x):\n",
        "  plt.imshow(x);\n",
        "  plt.colorbar()\n",
        "  plt.show()\n",
        "\n",
        "roW_indeX=np.random.randint(0,5000)\n",
        "print(roW_indeX)\n",
        "digitShow((np.reshape(digits_X[roW_indeX,:],(20,20))).T)\n",
        "print(digits_y[roW_indeX])"
      ],
      "execution_count": null,
      "outputs": [
        {
          "output_type": "stream",
          "name": "stdout",
          "text": [
            "530\n"
          ]
        },
        {
          "output_type": "display_data",
          "data": {
            "text/plain": [
              "<Figure size 432x288 with 2 Axes>"
            ],
            "image/png": "[encoded data removed]"
          },
          "metadata": {
            "needs_background": "light"
          }
        },
        {
          "output_type": "stream",
          "name": "stdout",
          "text": [
            "1\n"
          ]
        }
      ]
    },
    {
      "cell_type": "code",
      "metadata": {
        "id": "ypMV5txF8Xsg",
        "colab": {
          "base_uri": "https://localhost:8080/"
        },
        "outputId": "477aa37f-2a55-4b05-c43c-5e721ff36663"
      },
      "source": [
        "from sklearn import tree\n",
        "from sklearn.model_selection import train_test_split\n",
        "X_train, X_test, y_train, y_test = train_test_split(digits_X, digits_y, test_size=0.10, random_state=0)\n",
        "t = tree.DecisionTreeClassifier()\n",
        "y_pred = t.fit(X_train, y_train).predict(X_test)\n",
        "#print(y_pred)\n",
        "#print(y_test)\n",
        "print(\"Number of mislabeled points out of a total %d points : %d\" % (X_test.shape[0], (y_test != y_pred).sum()))"
      ],
      "execution_count": null,
      "outputs": [
        {
          "output_type": "stream",
          "name": "stdout",
          "text": [
            "Number of mislabeled points out of a total 500 points : 96\n"
          ]
        }
      ]
    },
    {
      "cell_type": "code",
      "metadata": {
        "id": "fFaeZDvGJw7H",
        "colab": {
          "base_uri": "https://localhost:8080/"
        },
        "outputId": "f7157379-2ba5-404b-95c7-d11e5c38f82a"
      },
      "source": [
        "e = []\n",
        "l =[]\n",
        "for i in range(1,120):\n",
        "  t = tree.DecisionTreeClassifier(max_depth=i)\n",
        "  t = t.fit(X_train, y_train)\n",
        "  y_tpred = t.predict(X_test)\n",
        "  y_lpred = t.predict(X_train)\n",
        "  terror = (y_train != y_lpred).sum() \n",
        "  error = (y_test != y_tpred).sum()\n",
        "  print(\"Test Error %d by max depth %d\" % (error, i) )\n",
        "  print(\"Train Error %d by max depth %d\" % (terror, i) )\n",
        "  l.append(terror)   \n",
        "  e.append(error)  \n",
        "\n",
        "\n",
        "\n"
      ],
      "execution_count": null,
      "outputs": [
        {
          "output_type": "stream",
          "name": "stdout",
          "text": [
            "Test Error 398 by max depth 1\n",
            "Train Error 3647 by max depth 1\n",
            "Test Error 354 by max depth 2\n",
            "Train Error 3081 by max depth 2\n",
            "Test Error 250 by max depth 3\n",
            "Train Error 2340 by max depth 3\n",
            "Test Error 194 by max depth 4\n",
            "Train Error 1774 by max depth 4\n",
            "Test Error 176 by max depth 5\n",
            "Train Error 1456 by max depth 5\n",
            "Test Error 137 by max depth 6\n",
            "Train Error 1134 by max depth 6\n",
            "Test Error 120 by max depth 7\n",
            "Train Error 817 by max depth 7\n",
            "Test Error 111 by max depth 8\n",
            "Train Error 561 by max depth 8\n",
            "Test Error 106 by max depth 9\n",
            "Train Error 359 by max depth 9\n",
            "Test Error 106 by max depth 10\n",
            "Train Error 209 by max depth 10\n",
            "Test Error 106 by max depth 11\n",
            "Train Error 127 by max depth 11\n",
            "Test Error 100 by max depth 12\n",
            "Train Error 77 by max depth 12\n",
            "Test Error 100 by max depth 13\n",
            "Train Error 40 by max depth 13\n",
            "Test Error 97 by max depth 14\n",
            "Train Error 23 by max depth 14\n",
            "Test Error 98 by max depth 15\n",
            "Train Error 18 by max depth 15\n",
            "Test Error 90 by max depth 16\n",
            "Train Error 15 by max depth 16\n",
            "Test Error 92 by max depth 17\n",
            "Train Error 11 by max depth 17\n",
            "Test Error 99 by max depth 18\n",
            "Train Error 8 by max depth 18\n",
            "Test Error 98 by max depth 19\n",
            "Train Error 5 by max depth 19\n",
            "Test Error 98 by max depth 20\n",
            "Train Error 2 by max depth 20\n",
            "Test Error 98 by max depth 21\n",
            "Train Error 0 by max depth 21\n",
            "Test Error 107 by max depth 22\n",
            "Train Error 0 by max depth 22\n",
            "Test Error 100 by max depth 23\n",
            "Train Error 0 by max depth 23\n",
            "Test Error 103 by max depth 24\n",
            "Train Error 0 by max depth 24\n",
            "Test Error 98 by max depth 25\n",
            "Train Error 0 by max depth 25\n",
            "Test Error 99 by max depth 26\n",
            "Train Error 0 by max depth 26\n",
            "Test Error 101 by max depth 27\n",
            "Train Error 0 by max depth 27\n",
            "Test Error 99 by max depth 28\n",
            "Train Error 0 by max depth 28\n",
            "Test Error 101 by max depth 29\n",
            "Train Error 0 by max depth 29\n",
            "Test Error 98 by max depth 30\n",
            "Train Error 0 by max depth 30\n",
            "Test Error 96 by max depth 31\n",
            "Train Error 0 by max depth 31\n",
            "Test Error 94 by max depth 32\n",
            "Train Error 0 by max depth 32\n",
            "Test Error 99 by max depth 33\n",
            "Train Error 0 by max depth 33\n",
            "Test Error 96 by max depth 34\n",
            "Train Error 0 by max depth 34\n",
            "Test Error 96 by max depth 35\n",
            "Train Error 0 by max depth 35\n",
            "Test Error 99 by max depth 36\n",
            "Train Error 0 by max depth 36\n",
            "Test Error 100 by max depth 37\n",
            "Train Error 0 by max depth 37\n",
            "Test Error 103 by max depth 38\n",
            "Train Error 0 by max depth 38\n",
            "Test Error 99 by max depth 39\n",
            "Train Error 0 by max depth 39\n",
            "Test Error 98 by max depth 40\n",
            "Train Error 0 by max depth 40\n",
            "Test Error 98 by max depth 41\n",
            "Train Error 0 by max depth 41\n",
            "Test Error 92 by max depth 42\n",
            "Train Error 0 by max depth 42\n",
            "Test Error 102 by max depth 43\n",
            "Train Error 0 by max depth 43\n",
            "Test Error 104 by max depth 44\n",
            "Train Error 0 by max depth 44\n",
            "Test Error 98 by max depth 45\n",
            "Train Error 0 by max depth 45\n",
            "Test Error 109 by max depth 46\n",
            "Train Error 0 by max depth 46\n",
            "Test Error 105 by max depth 47\n",
            "Train Error 0 by max depth 47\n",
            "Test Error 96 by max depth 48\n",
            "Train Error 0 by max depth 48\n",
            "Test Error 102 by max depth 49\n",
            "Train Error 0 by max depth 49\n",
            "Test Error 101 by max depth 50\n",
            "Train Error 0 by max depth 50\n",
            "Test Error 102 by max depth 51\n",
            "Train Error 0 by max depth 51\n",
            "Test Error 105 by max depth 52\n",
            "Train Error 0 by max depth 52\n",
            "Test Error 108 by max depth 53\n",
            "Train Error 0 by max depth 53\n",
            "Test Error 96 by max depth 54\n",
            "Train Error 0 by max depth 54\n",
            "Test Error 99 by max depth 55\n",
            "Train Error 0 by max depth 55\n",
            "Test Error 98 by max depth 56\n",
            "Train Error 0 by max depth 56\n",
            "Test Error 102 by max depth 57\n",
            "Train Error 0 by max depth 57\n",
            "Test Error 100 by max depth 58\n",
            "Train Error 0 by max depth 58\n",
            "Test Error 98 by max depth 59\n",
            "Train Error 0 by max depth 59\n",
            "Test Error 95 by max depth 60\n",
            "Train Error 0 by max depth 60\n",
            "Test Error 104 by max depth 61\n",
            "Train Error 0 by max depth 61\n",
            "Test Error 98 by max depth 62\n",
            "Train Error 0 by max depth 62\n",
            "Test Error 94 by max depth 63\n",
            "Train Error 0 by max depth 63\n",
            "Test Error 104 by max depth 64\n",
            "Train Error 0 by max depth 64\n",
            "Test Error 107 by max depth 65\n",
            "Train Error 0 by max depth 65\n",
            "Test Error 102 by max depth 66\n",
            "Train Error 0 by max depth 66\n",
            "Test Error 98 by max depth 67\n",
            "Train Error 0 by max depth 67\n",
            "Test Error 98 by max depth 68\n",
            "Train Error 0 by max depth 68\n",
            "Test Error 105 by max depth 69\n",
            "Train Error 0 by max depth 69\n",
            "Test Error 95 by max depth 70\n",
            "Train Error 0 by max depth 70\n",
            "Test Error 102 by max depth 71\n",
            "Train Error 0 by max depth 71\n",
            "Test Error 92 by max depth 72\n",
            "Train Error 0 by max depth 72\n",
            "Test Error 103 by max depth 73\n",
            "Train Error 0 by max depth 73\n",
            "Test Error 103 by max depth 74\n",
            "Train Error 0 by max depth 74\n",
            "Test Error 96 by max depth 75\n",
            "Train Error 0 by max depth 75\n",
            "Test Error 99 by max depth 76\n",
            "Train Error 0 by max depth 76\n",
            "Test Error 109 by max depth 77\n",
            "Train Error 0 by max depth 77\n",
            "Test Error 95 by max depth 78\n",
            "Train Error 0 by max depth 78\n",
            "Test Error 102 by max depth 79\n",
            "Train Error 0 by max depth 79\n",
            "Test Error 104 by max depth 80\n",
            "Train Error 0 by max depth 80\n",
            "Test Error 99 by max depth 81\n",
            "Train Error 0 by max depth 81\n",
            "Test Error 100 by max depth 82\n",
            "Train Error 0 by max depth 82\n",
            "Test Error 104 by max depth 83\n",
            "Train Error 0 by max depth 83\n",
            "Test Error 95 by max depth 84\n",
            "Train Error 0 by max depth 84\n",
            "Test Error 99 by max depth 85\n",
            "Train Error 0 by max depth 85\n",
            "Test Error 104 by max depth 86\n",
            "Train Error 0 by max depth 86\n",
            "Test Error 92 by max depth 87\n",
            "Train Error 0 by max depth 87\n",
            "Test Error 102 by max depth 88\n",
            "Train Error 0 by max depth 88\n",
            "Test Error 96 by max depth 89\n",
            "Train Error 0 by max depth 89\n",
            "Test Error 103 by max depth 90\n",
            "Train Error 0 by max depth 90\n",
            "Test Error 101 by max depth 91\n",
            "Train Error 0 by max depth 91\n",
            "Test Error 97 by max depth 92\n",
            "Train Error 0 by max depth 92\n",
            "Test Error 98 by max depth 93\n",
            "Train Error 0 by max depth 93\n",
            "Test Error 103 by max depth 94\n",
            "Train Error 0 by max depth 94\n",
            "Test Error 96 by max depth 95\n",
            "Train Error 0 by max depth 95\n",
            "Test Error 97 by max depth 96\n",
            "Train Error 0 by max depth 96\n",
            "Test Error 98 by max depth 97\n",
            "Train Error 0 by max depth 97\n",
            "Test Error 100 by max depth 98\n",
            "Train Error 0 by max depth 98\n",
            "Test Error 101 by max depth 99\n",
            "Train Error 0 by max depth 99\n",
            "Test Error 95 by max depth 100\n",
            "Train Error 0 by max depth 100\n",
            "Test Error 103 by max depth 101\n",
            "Train Error 0 by max depth 101\n",
            "Test Error 99 by max depth 102\n",
            "Train Error 0 by max depth 102\n",
            "Test Error 107 by max depth 103\n",
            "Train Error 0 by max depth 103\n",
            "Test Error 100 by max depth 104\n",
            "Train Error 0 by max depth 104\n",
            "Test Error 101 by max depth 105\n",
            "Train Error 0 by max depth 105\n",
            "Test Error 101 by max depth 106\n",
            "Train Error 0 by max depth 106\n",
            "Test Error 95 by max depth 107\n",
            "Train Error 0 by max depth 107\n",
            "Test Error 102 by max depth 108\n",
            "Train Error 0 by max depth 108\n",
            "Test Error 93 by max depth 109\n",
            "Train Error 0 by max depth 109\n",
            "Test Error 110 by max depth 110\n",
            "Train Error 0 by max depth 110\n",
            "Test Error 102 by max depth 111\n",
            "Train Error 0 by max depth 111\n",
            "Test Error 100 by max depth 112\n",
            "Train Error 0 by max depth 112\n",
            "Test Error 99 by max depth 113\n",
            "Train Error 0 by max depth 113\n",
            "Test Error 98 by max depth 114\n",
            "Train Error 0 by max depth 114\n",
            "Test Error 101 by max depth 115\n",
            "Train Error 0 by max depth 115\n",
            "Test Error 107 by max depth 116\n",
            "Train Error 0 by max depth 116\n",
            "Test Error 100 by max depth 117\n",
            "Train Error 0 by max depth 117\n",
            "Test Error 102 by max depth 118\n",
            "Train Error 0 by max depth 118\n",
            "Test Error 107 by max depth 119\n",
            "Train Error 0 by max depth 119\n"
          ]
        }
      ]
    },
    {
      "cell_type": "code",
      "metadata": {
        "id": "ge8zqF0eV6BM",
        "colab": {
          "base_uri": "https://localhost:8080/",
          "height": 297
        },
        "outputId": "b04ae298-53d0-4fb8-8473-c7988a569b51"
      },
      "source": [
        "import matplotlib.pyplot as plt\n",
        "import matplotlib\n",
        "\n",
        "plt.plot(range(1,120),[i/4500 for i in l],marker=\".\")\n",
        "plt.plot(range(1,120),[i/500 for i in e],marker=\"*\")\n",
        "plt.xlabel(\"Max Depth\")\n",
        "plt.ylabel(\"Error\")\n",
        "plt.legend([\"Training error\",\"Test Error\"])"
      ],
      "execution_count": null,
      "outputs": [
        {
          "output_type": "execute_result",
          "data": {
            "text/plain": [
              "<matplotlib.legend.Legend at 0x7f730c193fd0>"
            ]
          },
          "metadata": {},
          "execution_count": 8
        },
        {
          "output_type": "display_data",
          "data": {
            "text/plain": [
              "<Figure size 432x288 with 1 Axes>"
            ],
            "image/png": "[encoded data removed]"
          },
          "metadata": {
            "needs_background": "light"
          }
        }
      ]
    },
    {
      "cell_type": "markdown",
      "metadata": {
        "id": "0QsX88dqV85b"
      },
      "source": [
        "# Visualization of trees"
      ]
    },
    {
      "cell_type": "code",
      "metadata": {
        "id": "5X2mC_jVKHQq",
        "colab": {
          "base_uri": "https://localhost:8080/",
          "height": 987
        },
        "outputId": "19a36645-6413-4fd2-d861-3f8e53ce2dfd"
      },
      "source": [
        "from sklearn.datasets import load_iris\n",
        "from sklearn import tree\n",
        "X, y = load_iris(return_X_y=True)\n",
        "clf = tree.DecisionTreeClassifier(max_depth=5)\n",
        "clf = clf.fit(X, y)\n",
        "import matplotlib.pyplot as plt\n",
        "plt.subplots(figsize=(12, 12))\n",
        "tree.plot_tree(clf,fontsize=10) "
      ],
      "execution_count": null,
      "outputs": [
        {
          "output_type": "execute_result",
          "data": {
            "text/plain": [
              "[Text(0.5, 0.9166666666666666, 'X[2] <= 2.45\\ngini = 0.667\\nsamples = 150\\nvalue = [50, 50, 50]'),\n",
              " Text(0.4230769230769231, 0.75, 'gini = 0.0\\nsamples = 50\\nvalue = [50, 0, 0]'),\n",
              " Text(0.5769230769230769, 0.75, 'X[3] <= 1.75\\ngini = 0.5\\nsamples = 100\\nvalue = [0, 50, 50]'),\n",
              " Text(0.3076923076923077, 0.5833333333333334, 'X[2] <= 4.95\\ngini = 0.168\\nsamples = 54\\nvalue = [0, 49, 5]'),\n",
              " Text(0.15384615384615385, 0.4166666666666667, 'X[3] <= 1.65\\ngini = 0.041\\nsamples = 48\\nvalue = [0, 47, 1]'),\n",
              " Text(0.07692307692307693, 0.25, 'gini = 0.0\\nsamples = 47\\nvalue = [0, 47, 0]'),\n",
              " Text(0.23076923076923078, 0.25, 'gini = 0.0\\nsamples = 1\\nvalue = [0, 0, 1]'),\n",
              " Text(0.46153846153846156, 0.4166666666666667, 'X[3] <= 1.55\\ngini = 0.444\\nsamples = 6\\nvalue = [0, 2, 4]'),\n",
              " Text(0.38461538461538464, 0.25, 'gini = 0.0\\nsamples = 3\\nvalue = [0, 0, 3]'),\n",
              " Text(0.5384615384615384, 0.25, 'X[2] <= 5.45\\ngini = 0.444\\nsamples = 3\\nvalue = [0, 2, 1]'),\n",
              " Text(0.46153846153846156, 0.08333333333333333, 'gini = 0.0\\nsamples = 2\\nvalue = [0, 2, 0]'),\n",
              " Text(0.6153846153846154, 0.08333333333333333, 'gini = 0.0\\nsamples = 1\\nvalue = [0, 0, 1]'),\n",
              " Text(0.8461538461538461, 0.5833333333333334, 'X[2] <= 4.85\\ngini = 0.043\\nsamples = 46\\nvalue = [0, 1, 45]'),\n",
              " Text(0.7692307692307693, 0.4166666666666667, 'X[0] <= 5.95\\ngini = 0.444\\nsamples = 3\\nvalue = [0, 1, 2]'),\n",
              " Text(0.6923076923076923, 0.25, 'gini = 0.0\\nsamples = 1\\nvalue = [0, 1, 0]'),\n",
              " Text(0.8461538461538461, 0.25, 'gini = 0.0\\nsamples = 2\\nvalue = [0, 0, 2]'),\n",
              " Text(0.9230769230769231, 0.4166666666666667, 'gini = 0.0\\nsamples = 43\\nvalue = [0, 0, 43]')]"
            ]
          },
          "metadata": {},
          "execution_count": 9
        },
        {
          "output_type": "display_data",
          "data": {
            "text/plain": [
              "<Figure size 864x864 with 1 Axes>"
            ],
            "image/png": "[encoded data removed]"
          },
          "metadata": {
            "needs_background": "light"
          }
        }
      ]
    },
    {
      "cell_type": "code",
      "metadata": {
        "id": "L8AFxcynK3aZ"
      },
      "source": [],
      "execution_count": null,
      "outputs": []
    }
  ]
}